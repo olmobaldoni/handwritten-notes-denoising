{
 "cells": [
  {
   "cell_type": "markdown",
   "metadata": {},
   "source": [
    "### Import Dependencies"
   ]
  },
  {
   "cell_type": "code",
   "execution_count": 7,
   "metadata": {},
   "outputs": [],
   "source": [
    "from PIL import Image\n",
    "from tabulate import tabulate\n",
    "\n",
    "from rmac import SearchEngine\n",
    "from utils import show_query_img, show_top_matches\n",
    "from evaluation import compute_mAP"
   ]
  },
  {
   "cell_type": "markdown",
   "metadata": {},
   "source": [
    "### Open Query Image"
   ]
  },
  {
   "cell_type": "code",
   "execution_count": null,
   "metadata": {},
   "outputs": [],
   "source": [
    "# Open image \n",
    "query_path = \"db_1/data/img_1.png\"\n",
    "\n",
    "# Show query image\n",
    "show_query_img(img_path=query_path)"
   ]
  },
  {
   "cell_type": "markdown",
   "metadata": {},
   "source": [
    "---"
   ]
  },
  {
   "cell_type": "markdown",
   "metadata": {},
   "source": [
    "### Instantiate Search Engine Object with VGG16 Backbone"
   ]
  },
  {
   "cell_type": "code",
   "execution_count": null,
   "metadata": {},
   "outputs": [],
   "source": [
    "img_ret = SearchEngine(db_path='db_1/data', backbone='vgg16', max_scale_level=6)"
   ]
  },
  {
   "cell_type": "markdown",
   "metadata": {},
   "source": [
    "### Retrieve Similar Images"
   ]
  },
  {
   "cell_type": "code",
   "execution_count": null,
   "metadata": {},
   "outputs": [],
   "source": [
    "# Compute top matches\n",
    "img = Image.open(query_path).convert('RGB')\n",
    "img = img_ret.transform(img).to(img_ret.device)\n",
    "results = img_ret.compute_top_matches(img, top_k=10)\n",
    "\n",
    "table = [(path, score) for path, score in results]\n",
    "\n",
    "print(f\"Top matches for query {query_path}:\")\n",
    "print(tabulate(table, headers=['Path', 'Score'], tablefmt=\"rounded_grid\"))"
   ]
  },
  {
   "cell_type": "code",
   "execution_count": null,
   "metadata": {},
   "outputs": [],
   "source": [
    "show_top_matches(results)"
   ]
  },
  {
   "cell_type": "markdown",
   "metadata": {},
   "source": [
    "### Evaluate mAP"
   ]
  },
  {
   "cell_type": "code",
   "execution_count": null,
   "metadata": {},
   "outputs": [],
   "source": [
    "k_thresholds = [3, 5, 10, 20]\n",
    "table_data = []\n",
    "\n",
    "for k in k_thresholds:\n",
    "    mAP = compute_mAP(img_ret, top_k_threshold=k)  \n",
    "    table_data.append([k, mAP])\n",
    "\n",
    "table_headers = [\"k_threshold\", \"mAP\"]\n",
    "\n",
    "table = tabulate(table_data, headers=table_headers, tablefmt=\"rounded_grid\")\n",
    "\n",
    "print(table)"
   ]
  },
  {
   "cell_type": "markdown",
   "metadata": {},
   "source": [
    "---"
   ]
  },
  {
   "cell_type": "markdown",
   "metadata": {},
   "source": [
    "### Instantiate Search Engine Object with VGG19 Backbone"
   ]
  },
  {
   "cell_type": "code",
   "execution_count": null,
   "metadata": {},
   "outputs": [],
   "source": [
    "img_ret = SearchEngine(db_path='db_1/data', backbone='vgg19', max_scale_level=6)"
   ]
  },
  {
   "cell_type": "markdown",
   "metadata": {},
   "source": [
    "### Retrieve Similar Images"
   ]
  },
  {
   "cell_type": "code",
   "execution_count": null,
   "metadata": {},
   "outputs": [],
   "source": [
    "# Compute top matches\n",
    "img = Image.open(query_path).convert('RGB')\n",
    "img = img_ret.transform(img).to(img_ret.device)\n",
    "results = img_ret.compute_top_matches(img, top_k=10)\n",
    "\n",
    "table = [(path, score) for path, score in results]\n",
    "\n",
    "print(f\"Top matches for query {query_path}:\")\n",
    "print(tabulate(table, headers=['Path', 'Score'], tablefmt=\"rounded_grid\"))"
   ]
  },
  {
   "cell_type": "code",
   "execution_count": null,
   "metadata": {},
   "outputs": [],
   "source": [
    "show_top_matches(results)"
   ]
  },
  {
   "cell_type": "markdown",
   "metadata": {},
   "source": [
    "### Evaluate mAP"
   ]
  },
  {
   "cell_type": "code",
   "execution_count": null,
   "metadata": {},
   "outputs": [],
   "source": [
    "k_thresholds = [3, 5, 10, 20]\n",
    "table_data = []\n",
    "\n",
    "for k in k_thresholds:\n",
    "    mAP = compute_mAP(img_ret, top_k_threshold=k)  \n",
    "    table_data.append([k, mAP])\n",
    "\n",
    "table_headers = [\"k_threshold\", \"mAP\"]\n",
    "\n",
    "table = tabulate(table_data, headers=table_headers, tablefmt=\"rounded_grid\")\n",
    "\n",
    "print(table)"
   ]
  },
  {
   "cell_type": "markdown",
   "metadata": {},
   "source": [
    "---"
   ]
  },
  {
   "cell_type": "markdown",
   "metadata": {},
   "source": [
    "### Instantiate Search Engine Object with DenseNet Backbone"
   ]
  },
  {
   "cell_type": "code",
   "execution_count": null,
   "metadata": {},
   "outputs": [],
   "source": [
    "img_ret = SearchEngine(db_path='db_1/data', backbone='densenet', max_scale_level=6)"
   ]
  },
  {
   "cell_type": "markdown",
   "metadata": {},
   "source": [
    "### Retrieve Similar Images"
   ]
  },
  {
   "cell_type": "code",
   "execution_count": null,
   "metadata": {},
   "outputs": [],
   "source": [
    "# Compute top matches\n",
    "img = Image.open(query_path).convert('RGB')\n",
    "img = img_ret.transform(img).to(img_ret.device)\n",
    "results = img_ret.compute_top_matches(img, top_k=10)\n",
    "\n",
    "table = [(path, score) for path, score in results]\n",
    "\n",
    "print(f\"Top matches for query {query_path}:\")\n",
    "print(tabulate(table, headers=['Path', 'Score'], tablefmt=\"rounded_grid\"))"
   ]
  },
  {
   "cell_type": "code",
   "execution_count": null,
   "metadata": {},
   "outputs": [],
   "source": [
    "show_top_matches(results)"
   ]
  },
  {
   "cell_type": "markdown",
   "metadata": {},
   "source": [
    "### Evaluate mAP"
   ]
  },
  {
   "cell_type": "code",
   "execution_count": null,
   "metadata": {},
   "outputs": [],
   "source": [
    "k_thresholds = [3, 5, 10, 20]\n",
    "table_data = []\n",
    "\n",
    "for k in k_thresholds:\n",
    "    mAP = compute_mAP(img_ret, top_k_threshold=k)  \n",
    "    table_data.append([k, mAP])\n",
    "\n",
    "table_headers = [\"k_threshold\", \"mAP\"]\n",
    "\n",
    "table = tabulate(table_data, headers=table_headers, tablefmt=\"rounded_grid\")\n",
    "\n",
    "print(table)"
   ]
  },
  {
   "cell_type": "markdown",
   "metadata": {},
   "source": [
    "---"
   ]
  },
  {
   "cell_type": "markdown",
   "metadata": {},
   "source": [
    "### Instantiate Search Engine Object with Trained UNet Backbone"
   ]
  },
  {
   "cell_type": "code",
   "execution_count": null,
   "metadata": {},
   "outputs": [],
   "source": [
    "img_ret = SearchEngine(db_path='db_1/data', backbone='trained_unet', max_scale_level=6)"
   ]
  },
  {
   "cell_type": "markdown",
   "metadata": {},
   "source": [
    "### Retrieve Similar Images"
   ]
  },
  {
   "cell_type": "code",
   "execution_count": null,
   "metadata": {},
   "outputs": [],
   "source": [
    "# Compute top matches\n",
    "img = Image.open(query_path).convert('L')\n",
    "img = img_ret.transform(img).to(img_ret.device)\n",
    "results = img_ret.compute_top_matches(img, top_k=10)\n",
    "\n",
    "table = [(path, score) for path, score in results]\n",
    "\n",
    "print(f\"Top matches for query {query_path}:\")\n",
    "print(tabulate(table, headers=['Path', 'Score'], tablefmt=\"rounded_grid\"))"
   ]
  },
  {
   "cell_type": "code",
   "execution_count": null,
   "metadata": {},
   "outputs": [],
   "source": [
    "show_top_matches(results)"
   ]
  },
  {
   "cell_type": "markdown",
   "metadata": {},
   "source": [
    "### Evaluate mAP"
   ]
  },
  {
   "cell_type": "code",
   "execution_count": null,
   "metadata": {},
   "outputs": [],
   "source": [
    "k_thresholds = [3, 5, 10, 20]\n",
    "table_data = []\n",
    "\n",
    "for k in k_thresholds:\n",
    "    mAP = compute_mAP(img_ret, top_k_threshold=k)  \n",
    "    table_data.append([k, mAP])\n",
    "\n",
    "table_headers = [\"k_threshold\", \"mAP\"]\n",
    "\n",
    "table = tabulate(table_data, headers=table_headers, tablefmt=\"rounded_grid\")\n",
    "\n",
    "print(table)"
   ]
  },
  {
   "cell_type": "markdown",
   "metadata": {},
   "source": [
    "---"
   ]
  },
  {
   "cell_type": "markdown",
   "metadata": {},
   "source": [
    "### Instantiate Search Engine Object with Kaiming '0' UNet Backbone"
   ]
  },
  {
   "cell_type": "code",
   "execution_count": null,
   "metadata": {},
   "outputs": [],
   "source": [
    "img_ret = SearchEngine(db_path='db_1/data', backbone='kaiming_unet_0', max_scale_level=6)"
   ]
  },
  {
   "cell_type": "markdown",
   "metadata": {},
   "source": [
    "### Retrieve Similar Images"
   ]
  },
  {
   "cell_type": "code",
   "execution_count": null,
   "metadata": {},
   "outputs": [],
   "source": [
    "# Compute top matches\n",
    "img = Image.open(query_path).convert('RGB')\n",
    "img = img_ret.transform(img).to(img_ret.device)\n",
    "results = img_ret.compute_top_matches(img, top_k=10)\n",
    "\n",
    "table = [(path, score) for path, score in results]\n",
    "\n",
    "print(f\"Top matches for query {query_path}:\")\n",
    "print(tabulate(table, headers=['Path', 'Score'], tablefmt=\"rounded_grid\"))"
   ]
  },
  {
   "cell_type": "code",
   "execution_count": null,
   "metadata": {},
   "outputs": [],
   "source": [
    "show_top_matches(results)"
   ]
  },
  {
   "cell_type": "markdown",
   "metadata": {},
   "source": [
    "### Evaluate mAP"
   ]
  },
  {
   "cell_type": "code",
   "execution_count": null,
   "metadata": {},
   "outputs": [],
   "source": [
    "k_thresholds = [3, 5, 10, 20]\n",
    "table_data = []\n",
    "\n",
    "for k in k_thresholds:\n",
    "    mAP = compute_mAP(img_ret, top_k_threshold=k)  \n",
    "    table_data.append([k, mAP])\n",
    "\n",
    "table_headers = [\"k_threshold\", \"mAP\"]\n",
    "\n",
    "table = tabulate(table_data, headers=table_headers, tablefmt=\"rounded_grid\")\n",
    "\n",
    "print(table)"
   ]
  },
  {
   "cell_type": "markdown",
   "metadata": {},
   "source": [
    "---"
   ]
  },
  {
   "cell_type": "markdown",
   "metadata": {},
   "source": [
    "### Instantiate Search Engine Object with Kaiming '1' UNet Backbone"
   ]
  },
  {
   "cell_type": "code",
   "execution_count": null,
   "metadata": {},
   "outputs": [],
   "source": [
    "img_ret = SearchEngine(db_path='db_1/data', backbone='kaiming_unet_1', max_scale_level=6)"
   ]
  },
  {
   "cell_type": "markdown",
   "metadata": {},
   "source": [
    "### Retrieve Similar Images"
   ]
  },
  {
   "cell_type": "code",
   "execution_count": null,
   "metadata": {},
   "outputs": [],
   "source": [
    "# Compute top matches\n",
    "img = Image.open(query_path).convert('RGB')\n",
    "img = img_ret.transform(img).to(img_ret.device)\n",
    "results = img_ret.compute_top_matches(img, top_k=10)\n",
    "\n",
    "table = [(path, score) for path, score in results]\n",
    "\n",
    "print(f\"Top matches for query {query_path}:\")\n",
    "print(tabulate(table, headers=['Path', 'Score'], tablefmt=\"rounded_grid\"))"
   ]
  },
  {
   "cell_type": "code",
   "execution_count": null,
   "metadata": {},
   "outputs": [],
   "source": [
    "show_top_matches(results)"
   ]
  },
  {
   "cell_type": "markdown",
   "metadata": {},
   "source": [
    "### Evaluate mAP"
   ]
  },
  {
   "cell_type": "code",
   "execution_count": null,
   "metadata": {},
   "outputs": [],
   "source": [
    "k_thresholds = [3, 5, 10, 20]\n",
    "table_data = []\n",
    "\n",
    "for k in k_thresholds:\n",
    "    mAP = compute_mAP(img_ret, top_k_threshold=k)  \n",
    "    table_data.append([k, mAP])\n",
    "\n",
    "table_headers = [\"k_threshold\", \"mAP\"]\n",
    "\n",
    "table = tabulate(table_data, headers=table_headers, tablefmt=\"rounded_grid\")\n",
    "\n",
    "print(table)"
   ]
  },
  {
   "cell_type": "markdown",
   "metadata": {},
   "source": [
    "---"
   ]
  },
  {
   "cell_type": "markdown",
   "metadata": {},
   "source": [
    "### Instantiate Search Engine Object with Kaiming '2' UNet Backbone"
   ]
  },
  {
   "cell_type": "code",
   "execution_count": null,
   "metadata": {},
   "outputs": [],
   "source": [
    "img_ret = SearchEngine(db_path='db_1/data', backbone='kaiming_unet_2', max_scale_level=6)"
   ]
  },
  {
   "cell_type": "markdown",
   "metadata": {},
   "source": [
    "### Retrieve Similar Images"
   ]
  },
  {
   "cell_type": "code",
   "execution_count": null,
   "metadata": {},
   "outputs": [],
   "source": [
    "# Compute top matches\n",
    "img = Image.open(query_path).convert('RGB')\n",
    "img = img_ret.transform(img).to(img_ret.device)\n",
    "results = img_ret.compute_top_matches(img, top_k=10)\n",
    "\n",
    "table = [(path, score) for path, score in results]\n",
    "\n",
    "print(f\"Top matches for query {query_path}:\")\n",
    "print(tabulate(table, headers=['Path', 'Score'], tablefmt=\"rounded_grid\"))"
   ]
  },
  {
   "cell_type": "code",
   "execution_count": null,
   "metadata": {},
   "outputs": [],
   "source": [
    "show_top_matches(results)"
   ]
  },
  {
   "cell_type": "markdown",
   "metadata": {},
   "source": [
    "### Evaluate mAP"
   ]
  },
  {
   "cell_type": "code",
   "execution_count": null,
   "metadata": {},
   "outputs": [],
   "source": [
    "k_thresholds = [3, 5, 10, 20]\n",
    "table_data = []\n",
    "\n",
    "for k in k_thresholds:\n",
    "    mAP = compute_mAP(img_ret, top_k_threshold=k)  \n",
    "    table_data.append([k, mAP])\n",
    "\n",
    "table_headers = [\"k_threshold\", \"mAP\"]\n",
    "\n",
    "table = tabulate(table_data, headers=table_headers, tablefmt=\"rounded_grid\")\n",
    "\n",
    "print(table)"
   ]
  }
 ],
 "metadata": {
  "kernelspec": {
   "display_name": "cv_env",
   "language": "python",
   "name": "python3"
  },
  "language_info": {
   "codemirror_mode": {
    "name": "ipython",
    "version": 3
   },
   "file_extension": ".py",
   "mimetype": "text/x-python",
   "name": "python",
   "nbconvert_exporter": "python",
   "pygments_lexer": "ipython3",
   "version": "3.9.13"
  },
  "orig_nbformat": 4
 },
 "nbformat": 4,
 "nbformat_minor": 2
}
